{
 "cells": [
  {
   "cell_type": "code",
   "execution_count": null,
   "metadata": {
    "colab": {
     "base_uri": "https://localhost:8080/",
     "height": 204
    },
    "colab_type": "code",
    "id": "be7ayh-NJGRf",
    "outputId": "71e0d49d-9f16-4825-af5a-336c10061f61"
   },
   "outputs": [],
   "source": [
    "!wget https://s3.amazonaws.com/opennmt-models/transformer-ende-wmt-pyOnmt.tar.gz"
   ]
  },
  {
   "cell_type": "code",
   "execution_count": null,
   "metadata": {
    "colab": {
     "base_uri": "https://localhost:8080/",
     "height": 51
    },
    "colab_type": "code",
    "id": "Uq5LurRcJate",
    "outputId": "bc084d14-e214-48d0-d820-20fc5ee26dbd"
   },
   "outputs": [],
   "source": [
    "!tar -xzvf transformer-ende-wmt-pyOnmt.tar.gz"
   ]
  },
  {
   "cell_type": "code",
   "execution_count": null,
   "metadata": {
    "colab": {
     "base_uri": "https://localhost:8080/",
     "height": 136
    },
    "colab_type": "code",
    "id": "rWUjt_E8TxZq",
    "outputId": "fb885ede-8ce6-4a03-f5ac-239e10e996e5"
   },
   "outputs": [],
   "source": [
    "!git clone https://github.com/OpenNMT/OpenNMT-py.git"
   ]
  },
  {
   "cell_type": "code",
   "execution_count": null,
   "metadata": {
    "colab": {
     "base_uri": "https://localhost:8080/",
     "height": 34
    },
    "colab_type": "code",
    "id": "1v8UqSdBLM5c",
    "outputId": "e71b787d-3192-4b6f-93b3-821a2427d9d2"
   },
   "outputs": [],
   "source": [
    "cd OpenNMT-py/"
   ]
  },
  {
   "cell_type": "code",
   "execution_count": null,
   "metadata": {
    "colab": {
     "base_uri": "https://localhost:8080/",
     "height": 187
    },
    "colab_type": "code",
    "id": "cMY32jdgTfR7",
    "outputId": "855432d5-6ed8-411f-e4dd-60e90864025e"
   },
   "outputs": [],
   "source": [
    "!pip3 install configargparse"
   ]
  },
  {
   "cell_type": "code",
   "execution_count": null,
   "metadata": {
    "colab": {
     "base_uri": "https://localhost:8080/",
     "height": 1000
    },
    "colab_type": "code",
    "id": "Vg-ImkIjWfEj",
    "outputId": "43828fbe-cda5-4edb-8ff7-a5162ca9ed87"
   },
   "outputs": [],
   "source": [
    "!python setup.py install"
   ]
  },
  {
   "cell_type": "code",
   "execution_count": null,
   "metadata": {
    "colab": {
     "base_uri": "https://localhost:8080/",
     "height": 1000
    },
    "colab_type": "code",
    "id": "N1ReOWgdV686",
    "outputId": "d1b3011c-afb9-44ff-d5ca-65e302791f6b"
   },
   "outputs": [],
   "source": [
    "!pip3 install -r requirements.opt.txt"
   ]
  },
  {
   "cell_type": "code",
   "execution_count": null,
   "metadata": {
    "colab": {
     "base_uri": "https://localhost:8080/",
     "height": 1000
    },
    "colab_type": "code",
    "id": "yg61C6XeJ3_0",
    "outputId": "1a827547-28be-488c-cc44-f1f514dcd794"
   },
   "outputs": [],
   "source": [
    "!onmt_train \\\n",
    "-data /content/drive/My\\ Drive/nlp/data/setimes/opennmt/bg-ready/data \\\n",
    "-save_model /content/drive/My\\ Drive/nlp/models/opennmt/en-de/opennmt  \\\n",
    "--train_from /content/averaged-10-epoch.pt \\\n",
    "-gpu_ranks 0 "
   ]
  },
  {
   "cell_type": "code",
   "execution_count": null,
   "metadata": {
    "colab": {},
    "colab_type": "code",
    "id": "v7VnNTOgMohP"
   },
   "outputs": [],
   "source": [
    "!cp /content/drive/My\\ Drive/nlp/models/opennmt/en-de/opennmt_step_70000.pt .\n"
   ]
  },
  {
   "cell_type": "code",
   "execution_count": null,
   "metadata": {
    "colab": {
     "base_uri": "https://localhost:8080/",
     "height": 63
    },
    "colab_type": "code",
    "id": "bbujUpAxMznK",
    "outputId": "cd765ed7-7d92-47c1-871a-318bf4d9833b"
   },
   "outputs": [],
   "source": [
    "!onmt_translate -model opennmt_step_70000.pt -src /content/drive/My\\ Drive/nlp/data/setimes/opennmt/en_test.txt -output /content/drive/My\\ Drive/nlp/results/setimes/opennmt/en-de-fu-bg/predictions.txt -replace_unk"
   ]
  }
 ],
 "metadata": {
  "accelerator": "GPU",
  "colab": {
   "collapsed_sections": [],
   "name": "opennmt-py-prtrained-en-de.ipynb",
   "provenance": []
  },
  "kernelspec": {
   "display_name": "Python 3",
   "language": "python",
   "name": "python3"
  },
  "language_info": {
   "codemirror_mode": {
    "name": "ipython",
    "version": 3
   },
   "file_extension": ".py",
   "mimetype": "text/x-python",
   "name": "python",
   "nbconvert_exporter": "python",
   "pygments_lexer": "ipython3",
   "version": "3.7.3"
  }
 },
 "nbformat": 4,
 "nbformat_minor": 1
}
