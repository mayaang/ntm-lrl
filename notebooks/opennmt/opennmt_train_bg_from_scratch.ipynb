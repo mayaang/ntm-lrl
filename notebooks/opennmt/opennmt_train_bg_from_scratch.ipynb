{
 "cells": [
  {
   "cell_type": "code",
   "execution_count": null,
   "metadata": {
    "colab": {
     "base_uri": "https://localhost:8080/",
     "height": 139
    },
    "colab_type": "code",
    "id": "m0yWD8l3aETZ",
    "outputId": "f78c2f11-3ddd-4d4a-a72d-aa2fb90971ea"
   },
   "outputs": [],
   "source": [
    "!git clone https://github.com/OpenNMT/OpenNMT-py.git"
   ]
  },
  {
   "cell_type": "code",
   "execution_count": null,
   "metadata": {
    "colab": {
     "base_uri": "https://localhost:8080/",
     "height": 106
    },
    "colab_type": "code",
    "id": "LTUAydK2GIRH",
    "outputId": "1dbfd248-fe04-426b-9d6d-91f7890fe470"
   },
   "outputs": [],
   "source": [
    "!python -m nltk.downloader punkt"
   ]
  },
  {
   "cell_type": "code",
   "execution_count": null,
   "metadata": {
    "colab": {
     "base_uri": "https://localhost:8080/",
     "height": 211
    },
    "colab_type": "code",
    "id": "u_dJTzjyZonY",
    "outputId": "559593c5-9bff-4a27-e499-186bdc1c59e9"
   },
   "outputs": [],
   "source": [
    "!pip3 install configargparse"
   ]
  },
  {
   "cell_type": "code",
   "execution_count": null,
   "metadata": {
    "colab": {
     "base_uri": "https://localhost:8080/",
     "height": 124
    },
    "colab_type": "code",
    "id": "ueGI3Cv2GhqO",
    "outputId": "a9ec9b61-efa2-4367-fc75-73749a9938e4"
   },
   "outputs": [],
   "source": [
    "from google.colab import drive\n",
    "drive.mount('/content/drive')"
   ]
  },
  {
   "cell_type": "code",
   "execution_count": null,
   "metadata": {
    "colab": {
     "base_uri": "https://localhost:8080/",
     "height": 34
    },
    "colab_type": "code",
    "id": "5tfVn-blZv1l",
    "outputId": "e3acedd7-a609-4575-c0fb-e55d86a13f89"
   },
   "outputs": [],
   "source": [
    "cd OpenNMT-py"
   ]
  },
  {
   "cell_type": "code",
   "execution_count": null,
   "metadata": {
    "colab": {
     "base_uri": "https://localhost:8080/",
     "height": 1000
    },
    "colab_type": "code",
    "id": "zoPYwGf-Gm7K",
    "outputId": "313a84ee-ff8c-464c-962d-dc2023a742b6"
   },
   "outputs": [],
   "source": [
    "!python setup.py install"
   ]
  },
  {
   "cell_type": "code",
   "execution_count": null,
   "metadata": {
    "colab": {
     "base_uri": "https://localhost:8080/",
     "height": 1000
    },
    "colab_type": "code",
    "id": "c2LmSNW4GcfB",
    "outputId": "b2d136d2-3bba-438b-8d87-05e8fa875993"
   },
   "outputs": [],
   "source": [
    "!pip3 install -r requirements.opt.txt"
   ]
  },
  {
   "cell_type": "code",
   "execution_count": null,
   "metadata": {
    "colab": {
     "base_uri": "https://localhost:8080/",
     "height": 225
    },
    "colab_type": "code",
    "id": "PgsQ8-U6Z81U",
    "outputId": "9e8367a2-e382-4779-b9b3-c997bfea515a"
   },
   "outputs": [],
   "source": [
    "!onmt_preprocess -train_src /content/drive/My\\ Drive/nlp/data/setimes/opennmt/preprocessed/en_train.txt \\\n",
    "      -train_tgt /content/drive/My\\ Drive/nlp/data/setimes/opennmt/preprocessed/bg_train.txt \\\n",
    "      -valid_src /content/drive/My\\ Drive/nlp/data/setimes/opennmt/preprocessed/en_val.txt \\\n",
    "      -valid_tgt /content/drive/My\\ Drive/nlp/data/setimes/opennmt/preprocessed/bg_val.txt  \\\n",
    "      -save_data /content/drive/My\\ Drive/nlp/data/setimes/opennmt/ready/data -report_every 10000\n"
   ]
  },
  {
   "cell_type": "code",
   "execution_count": null,
   "metadata": {
    "colab": {},
    "colab_type": "code",
    "id": "cRRJh3jqcXxo"
   },
   "outputs": [],
   "source": [
    "CUDA_VISIBLE_DEVICES=1,3"
   ]
  },
  {
   "cell_type": "code",
   "execution_count": null,
   "metadata": {
    "colab": {
     "base_uri": "https://localhost:8080/",
     "height": 1000
    },
    "colab_type": "code",
    "id": "l8iIJ-cRaf5U",
    "outputId": "2fa9e817-b367-4ea3-aa6c-f4d083e2823e"
   },
   "outputs": [],
   "source": [
    "!onmt_train -data /content/drive/My\\ Drive/nlp/data/setimes/opennmt/ready/data -save_model /content/drive/My\\ Drive/nlp/models/opennmt  -gpu_ranks 0 "
   ]
  }
 ],
 "metadata": {
  "accelerator": "GPU",
  "colab": {
   "collapsed_sections": [],
   "name": "opennmt-train-bg-from-scratch.ipynb",
   "provenance": []
  },
  "kernelspec": {
   "display_name": "Python 3",
   "language": "python",
   "name": "python3"
  },
  "language_info": {
   "codemirror_mode": {
    "name": "ipython",
    "version": 3
   },
   "file_extension": ".py",
   "mimetype": "text/x-python",
   "name": "python",
   "nbconvert_exporter": "python",
   "pygments_lexer": "ipython3",
   "version": "3.7.3"
  }
 },
 "nbformat": 4,
 "nbformat_minor": 1
}
