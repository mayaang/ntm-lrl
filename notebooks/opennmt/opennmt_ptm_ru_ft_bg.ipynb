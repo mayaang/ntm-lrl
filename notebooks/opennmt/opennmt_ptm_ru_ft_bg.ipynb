{
 "cells": [
  {
   "cell_type": "code",
   "execution_count": null,
   "metadata": {
    "colab": {
     "base_uri": "https://localhost:8080/",
     "height": 156
    },
    "colab_type": "code",
    "id": "ZKtvhh49h26V",
    "outputId": "eedb8e01-1e9e-4f30-fc69-4b6dc766e042"
   },
   "outputs": [],
   "source": [
    "!wget https://dl.fbaipublicfiles.com/laser/WikiMatrix/v1/WikiMatrix.en-ru.tsv.gz"
   ]
  },
  {
   "cell_type": "code",
   "execution_count": null,
   "metadata": {
    "colab": {},
    "colab_type": "code",
    "id": "DHgTWOwBiEMh"
   },
   "outputs": [],
   "source": [
    "!gunzip WikiMatrix.en-ru.tsv.gz"
   ]
  },
  {
   "cell_type": "code",
   "execution_count": null,
   "metadata": {
    "colab": {
     "base_uri": "https://localhost:8080/",
     "height": 124
    },
    "colab_type": "code",
    "id": "2rPn1rvwjbZE",
    "outputId": "adbb8d52-22fd-437a-b577-5fe5744b9cd8"
   },
   "outputs": [],
   "source": [
    "from google.colab import drive\n",
    "drive.mount('/content/drive')"
   ]
  },
  {
   "cell_type": "code",
   "execution_count": null,
   "metadata": {
    "colab": {
     "base_uri": "https://localhost:8080/",
     "height": 191
    },
    "colab_type": "code",
    "id": "cMY32jdgTfR7",
    "outputId": "bcd1d731-2288-4451-a2c3-e92f0ab11427"
   },
   "outputs": [],
   "source": [
    "!pip3 install configargparse"
   ]
  },
  {
   "cell_type": "code",
   "execution_count": null,
   "metadata": {
    "colab": {
     "base_uri": "https://localhost:8080/",
     "height": 139
    },
    "colab_type": "code",
    "id": "rWUjt_E8TxZq",
    "outputId": "2f855040-d26e-4824-fcb9-8068d09d5fea"
   },
   "outputs": [],
   "source": [
    "!git clone https://github.com/OpenNMT/OpenNMT-py.git"
   ]
  },
  {
   "cell_type": "code",
   "execution_count": null,
   "metadata": {
    "colab": {
     "base_uri": "https://localhost:8080/",
     "height": 34
    },
    "colab_type": "code",
    "id": "1v8UqSdBLM5c",
    "outputId": "c3d6a0ac-d7a5-404d-a38a-23f2798e1fe7"
   },
   "outputs": [],
   "source": [
    "cd OpenNMT-py/"
   ]
  },
  {
   "cell_type": "code",
   "execution_count": null,
   "metadata": {
    "colab": {
     "base_uri": "https://localhost:8080/",
     "height": 1000
    },
    "colab_type": "code",
    "id": "Vg-ImkIjWfEj",
    "outputId": "69e21b47-af1a-464f-b346-c96e70a2e97f"
   },
   "outputs": [],
   "source": [
    "!python setup.py install"
   ]
  },
  {
   "cell_type": "code",
   "execution_count": null,
   "metadata": {
    "colab": {
     "base_uri": "https://localhost:8080/",
     "height": 1000
    },
    "colab_type": "code",
    "id": "N1ReOWgdV686",
    "outputId": "9068b6ff-d4fb-4712-e3b0-74ac9a626478"
   },
   "outputs": [],
   "source": [
    "!pip3 install -r requirements.opt.txt"
   ]
  },
  {
   "cell_type": "code",
   "execution_count": null,
   "metadata": {
    "colab": {
     "base_uri": "https://localhost:8080/",
     "height": 436
    },
    "colab_type": "code",
    "id": "rs2ji1FyWkF0",
    "outputId": "f25b2029-b557-4daf-efc8-51e7cd7d6266"
   },
   "outputs": [],
   "source": [
    "!onmt_preprocess -train_src /content/drive/My\\ Drive/nlp/data/wikimatrix/ru/opennmt/preprocessed/en_train.txt \\\n",
    "  -train_tgt /content/drive/My\\ Drive/nlp/data/wikimatrix/ru/opennmt/preprocessed/ru_train.txt \\\n",
    "  -valid_src /content/drive/My\\ Drive/nlp/data/wikimatrix/ru/opennmt/preprocessed/en_val.txt \\\n",
    "  -valid_tgt /content/drive/My\\ Drive/nlp/data/wikimatrix/ru/opennmt/preprocessed/ru_val.txt \\\n",
    "  -save_data /content/drive/My\\ Drive/nlp/data/wikimatrix/ru/opennmt/ready/data\n"
   ]
  },
  {
   "cell_type": "code",
   "execution_count": null,
   "metadata": {
    "colab": {},
    "colab_type": "code",
    "id": "ugYu3XSmwJZp"
   },
   "outputs": [],
   "source": [
    "CUDA_VISIBLE_DEVICES=1,3"
   ]
  },
  {
   "cell_type": "code",
   "execution_count": null,
   "metadata": {
    "colab": {
     "base_uri": "https://localhost:8080/",
     "height": 225
    },
    "colab_type": "code",
    "id": "TlNt5pAizScq",
    "outputId": "f53bf0c9-b211-45ff-aeaa-fa897341faaf"
   },
   "outputs": [],
   "source": [
    "!onmt_train -data /content/drive/My\\ Drive/nlp/data/wikimatrix/ru/opennmt/ready/data -save_model /content/drive/My\\ Drive/nlp/model/ru/opennmt/ -gpu_ranks 0"
   ]
  },
  {
   "cell_type": "code",
   "execution_count": null,
   "metadata": {
    "colab": {},
    "colab_type": "code",
    "id": "A-K2eClUzcQa"
   },
   "outputs": [],
   "source": [
    "!cp /content/drive/My\\ Drive/nlp/model/ru/opennmt/model_step_100000.pt ."
   ]
  },
  {
   "cell_type": "code",
   "execution_count": null,
   "metadata": {
    "colab": {
     "base_uri": "https://localhost:8080/",
     "height": 121
    },
    "colab_type": "code",
    "id": "O-lVJqAfzovR",
    "outputId": "d4422e66-fab5-4cfa-9367-71f8e67d135b"
   },
   "outputs": [],
   "source": [
    "!onmt_translate -model model_step_100000.pt -src /content/drive/My\\ Drive/nlp/data/wikimatrix/ru/opennmt/preprocessed/en_test.txt -output /content/drive/My\\ Drive/nlp/data/wikimatrix/ru/opennmt/predictions.txt -replace_unk \n",
    "#-verbose"
   ]
  },
  {
   "cell_type": "code",
   "execution_count": null,
   "metadata": {
    "colab": {},
    "colab_type": "code",
    "id": "Jy1FvPBzE8TK"
   },
   "outputs": [],
   "source": []
  },
  {
   "cell_type": "code",
   "execution_count": null,
   "metadata": {
    "colab": {
     "base_uri": "https://localhost:8080/",
     "height": 1000
    },
    "colab_type": "code",
    "id": "G8lJdMzbER-K",
    "outputId": "ceb5b1f0-0814-443c-86ec-d5a3c729db44"
   },
   "outputs": [],
   "source": [
    "# fine-tune on the PTM russian\n",
    "!onmt_train -data /content/drive/My\\ Drive/nlp/data/setimes/bg/opennmt/ready/data \\\n",
    "-save_model /content/drive/My\\ Drive/nlp/model/bg/opennmt/fine_ru \\\n",
    "-gpu_ranks 0 \\\n",
    "--train_from model_step_100000.pt  \\\n",
    "--train_steps 200000"
   ]
  },
  {
   "cell_type": "code",
   "execution_count": null,
   "metadata": {
    "colab": {},
    "colab_type": "code",
    "id": "yZN_RjPht4L0"
   },
   "outputs": [],
   "source": [
    "!cp /content/drive/My\\ Drive/nlp/model/bg/opennmt/fine_ru_step_200000.pt ."
   ]
  },
  {
   "cell_type": "code",
   "execution_count": null,
   "metadata": {
    "colab": {
     "base_uri": "https://localhost:8080/",
     "height": 135
    },
    "colab_type": "code",
    "id": "_sh8pqeDt-hE",
    "outputId": "4ad6f025-982e-4dc8-c1b8-0e69afb5c08a"
   },
   "outputs": [],
   "source": [
    "!onmt_translate -model fine_ru_step_200000.pt -src /content/drive/My\\ Drive/nlp/data/wikimatrix/ru/opennmt/preprocessed/en_test.txt -output /content/drive/My\\ Drive/nlp/data/setimes/bg/opennmt/predictions.txt -replace_unk \n",
    "#-verbose"
   ]
  },
  {
   "cell_type": "code",
   "execution_count": null,
   "metadata": {
    "colab": {
     "base_uri": "https://localhost:8080/",
     "height": 1000
    },
    "colab_type": "code",
    "id": "9Dt5GpXPi-mN",
    "outputId": "ded0e250-f21a-4dbc-e387-06f30e9e9aaa"
   },
   "outputs": [],
   "source": [
    "!onmt_train -data /content/drive/My\\ Drive/nlp/data/wikimatrix/ru/opennmt/ready/data \\\n",
    "-save_model /content/drive/My\\ Drive/nlp/model/ru/opennmt2/opennmt \\\n",
    "-gpu_ranks 0 \\\n",
    "-layers 6 \\\n",
    "-rnn_size 512 \\\n",
    "-word_vec_size 512 \\\n",
    "-transformer_ff 2048 \\\n",
    "-heads 8  \\\n",
    "-encoder_type transformer \\\n",
    "-decoder_type transformer \\\n",
    "-position_encoding \\\n",
    "-train_steps 100000  \\\n",
    "-max_generator_batches 2 \\\n",
    "-dropout 0.1 \\\n",
    "-batch_size 4096 \\\n",
    "-batch_type tokens \\\n",
    "-normalization tokens  \\\n",
    "-accum_count 2 \\\n",
    "-optim adam \\\n",
    "-adam_beta2 0.998 \\\n",
    "-decay_method noam \\\n",
    "-warmup_steps 8000 \\\n",
    "-learning_rate 2 \\\n",
    "-max_grad_norm 0 \\\n",
    "-param_init 0  \\\n",
    "-param_init_glorot \\\n",
    "-label_smoothing 0.1 \\\n",
    "-valid_steps 10000 \\\n",
    "-save_checkpoint_steps 10000 \\\n",
    "-world_size 4 \\\n",
    "-gpu_ranks 0 1 2 3\n",
    "\n",
    "#--train_from /content/drive/My\\ Drive/nlp/model/ru/opennmt2/opennmt  \\\n"
   ]
  }
 ],
 "metadata": {
  "accelerator": "GPU",
  "colab": {
   "collapsed_sections": [],
   "name": "opennmt-ptm-ru-ft-bg.ipynb",
   "provenance": []
  },
  "kernelspec": {
   "display_name": "Python 3",
   "language": "python",
   "name": "python3"
  },
  "language_info": {
   "codemirror_mode": {
    "name": "ipython",
    "version": 3
   },
   "file_extension": ".py",
   "mimetype": "text/x-python",
   "name": "python",
   "nbconvert_exporter": "python",
   "pygments_lexer": "ipython3",
   "version": "3.7.3"
  }
 },
 "nbformat": 4,
 "nbformat_minor": 1
}
