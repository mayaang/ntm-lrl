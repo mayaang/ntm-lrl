{
 "cells": [
  {
   "cell_type": "code",
   "execution_count": null,
   "metadata": {
    "colab": {
     "base_uri": "https://localhost:8080/",
     "height": 156
    },
    "colab_type": "code",
    "id": "ZKtvhh49h26V",
    "outputId": "eedb8e01-1e9e-4f30-fc69-4b6dc766e042"
   },
   "outputs": [],
   "source": [
    "!wget https://dl.fbaipublicfiles.com/laser/WikiMatrix/v1/WikiMatrix.en-ru.tsv.gz"
   ]
  },
  {
   "cell_type": "code",
   "execution_count": null,
   "metadata": {
    "colab": {},
    "colab_type": "code",
    "id": "DHgTWOwBiEMh"
   },
   "outputs": [],
   "source": [
    "!gunzip WikiMatrix.en-ru.tsv.gz"
   ]
  },
  {
   "cell_type": "code",
   "execution_count": null,
   "metadata": {
    "colab": {
     "base_uri": "https://localhost:8080/",
     "height": 124
    },
    "colab_type": "code",
    "id": "2rPn1rvwjbZE",
    "outputId": "adbb8d52-22fd-437a-b577-5fe5744b9cd8"
   },
   "outputs": [],
   "source": [
    "from google.colab import drive\n",
    "drive.mount('/content/drive')"
   ]
  },
  {
   "cell_type": "code",
   "execution_count": null,
   "metadata": {
    "colab": {
     "base_uri": "https://localhost:8080/",
     "height": 176
    },
    "colab_type": "code",
    "id": "ZBkgiww9iLOb",
    "outputId": "1e83b5e9-fb5d-4229-e56f-faa80106972f"
   },
   "outputs": [],
   "source": [
    "from tqdm import tqdm, trange\n",
    "en_data = []\n",
    "ru_data = []\n",
    "count_all = 0\n",
    "with open('WikiMatrix.en-ru.tsv') as fp:\n",
    "    for line in tqdm(fp, total=3895992):\n",
    "        line_data = line.rstrip().split('\\t')\n",
    "        count_all+=1\n",
    "        if len(line_data[1].replace(\" \",\"\"))<=380 and len(line_data[2].replace(\" \",\"\"))<=380:\n",
    "          en_data.append(line_data[1] + '\\n')\n",
    "          ru_data.append(line_data[2] + '\\n')\n",
    "\n"
   ]
  },
  {
   "cell_type": "code",
   "execution_count": null,
   "metadata": {
    "colab": {},
    "colab_type": "code",
    "id": "vXB_4GxpiVca"
   },
   "outputs": [],
   "source": [
    "from tqdm import tqdm, trange\n",
    "from sklearn.model_selection import train_test_split\n",
    "\n",
    "\n",
    "total_test = 60000\n",
    "en_train, en_subtotal, ru_train, ru_subtotal = train_test_split(\n",
    "        en_data, ru_data, test_size=total_test, random_state=42)\n",
    "\n",
    "en_test, en_val, ru_test, ru_val = train_test_split(\n",
    "        en_subtotal, ru_subtotal, test_size=0.5, random_state=42)"
   ]
  },
  {
   "cell_type": "code",
   "execution_count": null,
   "metadata": {
    "colab": {
     "base_uri": "https://localhost:8080/",
     "height": 106
    },
    "colab_type": "code",
    "id": "xN4-p4uZRmp2",
    "outputId": "53f85f6b-ba69-4e9b-b8eb-6c13cef49829"
   },
   "outputs": [],
   "source": [
    "!python -m nltk.downloader punkt"
   ]
  },
  {
   "cell_type": "code",
   "execution_count": null,
   "metadata": {
    "colab": {},
    "colab_type": "code",
    "id": "FSqM0klBidTB"
   },
   "outputs": [],
   "source": [
    "from nltk import tokenize\n",
    "with open(\"/content/drive/My Drive/nlp/data/wikimatrix/ru/opennmt/preprocessed/en_train.txt\", \"w\") as f:\n",
    "    f.write(\n",
    "        \"\\n\".join([\n",
    "             \" \".join(tokenize.word_tokenize(l))\n",
    "             for l in en_train\n",
    "         ])\n",
    "    )\n",
    "\n",
    "with open(\"/content/drive/My Drive/nlp/data/wikimatrix/ru/opennmt/preprocessed/ru_train.txt\", \"w\") as f:\n",
    "    f.write(\n",
    "        \"\\n\".join([\n",
    "             \" \".join(tokenize.word_tokenize(l))\n",
    "             for l in ru_train\n",
    "         ])\n",
    "    )\n",
    "with open(\"/content/drive/My Drive/nlp/data/wikimatrix/ru/opennmt/preprocessed/en_val.txt\", \"w\") as f:\n",
    "    f.write(\n",
    "        \"\\n\".join([\n",
    "             \" \".join(tokenize.word_tokenize(l))\n",
    "             for l in en_val\n",
    "         ])\n",
    "    )\n",
    "\n",
    "with open(\"/content/drive/My Drive/nlp/data/wikimatrix/ru/opennmt/preprocessed/ru_val.txt\", \"w\") as f:\n",
    "    f.write(\n",
    "        \"\\n\".join([\n",
    "             \" \".join(tokenize.word_tokenize(l))\n",
    "             for l in ru_val\n",
    "         ])\n",
    "    )\n",
    "\n",
    "with open(\"/content/drive/My Drive/nlp/data/wikimatrix/ru/opennmt/preprocessed/en_test.txt\", \"w\") as f:\n",
    "    f.write(\n",
    "        \"\\n\".join([\n",
    "             \" \".join(tokenize.word_tokenize(l))\n",
    "             for l in en_test\n",
    "         ])\n",
    "    )\n",
    "\n",
    "with open(\"/content/drive/My Drive/nlp/data/wikimatrix/ru/opennmt/preprocessed/ru_test.txt\", \"w\") as f:\n",
    "    f.write(\n",
    "        \"\\n\".join([\n",
    "             \" \".join(tokenize.word_tokenize(l))\n",
    "             for l in ru_test\n",
    "         ])\n",
    "    )\n"
   ]
  }
 ],
 "metadata": {
  "accelerator": "GPU",
  "colab": {
   "collapsed_sections": [],
   "name": "prepare-opennmt-russian-dataset.ipynb",
   "provenance": []
  },
  "kernelspec": {
   "display_name": "Python 3",
   "language": "python",
   "name": "python3"
  },
  "language_info": {
   "codemirror_mode": {
    "name": "ipython",
    "version": 3
   },
   "file_extension": ".py",
   "mimetype": "text/x-python",
   "name": "python",
   "nbconvert_exporter": "python",
   "pygments_lexer": "ipython3",
   "version": "3.7.3"
  }
 },
 "nbformat": 4,
 "nbformat_minor": 1
}
