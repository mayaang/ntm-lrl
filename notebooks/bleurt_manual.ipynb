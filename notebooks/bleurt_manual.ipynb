{
 "cells": [
  {
   "cell_type": "code",
   "execution_count": null,
   "metadata": {
    "colab": {
     "base_uri": "https://localhost:8080/",
     "height": 119
    },
    "colab_type": "code",
    "id": "tV_QmrfnpHXB",
    "outputId": "67541224-bf52-4260-dcd6-b406fc490453"
   },
   "outputs": [],
   "source": [
    "!git clone https://github.com/google-research/bleurt.git"
   ]
  },
  {
   "cell_type": "code",
   "execution_count": null,
   "metadata": {
    "colab": {
     "base_uri": "https://localhost:8080/",
     "height": 34
    },
    "colab_type": "code",
    "id": "YS5SCdnasAqz",
    "outputId": "fe16640b-17b7-4e45-a115-8d06893d50e1"
   },
   "outputs": [],
   "source": [
    "cd bleurt/"
   ]
  },
  {
   "cell_type": "code",
   "execution_count": null,
   "metadata": {
    "colab": {
     "base_uri": "https://localhost:8080/",
     "height": 904
    },
    "colab_type": "code",
    "id": "3RyWBXWJsCNV",
    "outputId": "49a99e06-6846-4a2e-c66e-3e614625e51e"
   },
   "outputs": [],
   "source": [
    "!pip3 install ."
   ]
  },
  {
   "cell_type": "code",
   "execution_count": null,
   "metadata": {
    "colab": {
     "base_uri": "https://localhost:8080/",
     "height": 1000
    },
    "colab_type": "code",
    "id": "c0x2xxnLsHpm",
    "outputId": "9422df98-47a0-46de-98e2-124867dac8b7"
   },
   "outputs": [],
   "source": [
    "!python -m unittest bleurt.score_test\n",
    "!python -m unittest bleurt.score_not_eager_test\n",
    "!python -m unittest bleurt.finetune_test\n"
   ]
  },
  {
   "cell_type": "code",
   "execution_count": null,
   "metadata": {
    "colab": {
     "base_uri": "https://localhost:8080/",
     "height": 459
    },
    "colab_type": "code",
    "id": "L1Xwy-UCtEuj",
    "outputId": "ed8a12e4-9a6d-400b-a16e-60ccfc4f544f"
   },
   "outputs": [],
   "source": [
    "!wget https://storage.googleapis.com/bleurt-oss/bleurt-large-512.zip .\n",
    "!unzip bleurt-large-512.zip"
   ]
  },
  {
   "cell_type": "code",
   "execution_count": null,
   "metadata": {
    "colab": {
     "base_uri": "https://localhost:8080/",
     "height": 734
    },
    "colab_type": "code",
    "id": "RlADj602sMdu",
    "outputId": "93562c50-8b14-4038-faef-06ded0f87f6b"
   },
   "outputs": [],
   "source": [
    "##evaluate original small valhalla model\n",
    "!python -m bleurt.score \\\n",
    "  -candidate_file=translated.txt \\\n",
    "  -reference_file=reference.txt \\\n",
    "  -bleurt_checkpoint= bleurt-large-512\\\n",
    "  -scores_file=bleurt_evaluation.txt"
   ]
  },
  {
   "cell_type": "code",
   "execution_count": null,
   "metadata": {
    "colab": {},
    "colab_type": "code",
    "id": "mvNpaBUPGe4L"
   },
   "outputs": [],
   "source": [
    "import io\n",
    "def calculate_bleurt(filename):\n",
    "  with io.open(filename,'r') as f:\n",
    "    bl = f.readlines()\n",
    "\n",
    "  b = [float(i) for i in bl]\n",
    "  score = sum(b)/len(b)\n",
    "  print('score for ' + filename)\n",
    "  print(score)\n",
    "\n",
    "\n"
   ]
  }
 ],
 "metadata": {
  "colab": {
   "collapsed_sections": [],
   "name": "bleurt_manual.ipynb",
   "provenance": []
  },
  "kernelspec": {
   "display_name": "Python 3",
   "language": "python",
   "name": "python3"
  },
  "language_info": {
   "codemirror_mode": {
    "name": "ipython",
    "version": 3
   },
   "file_extension": ".py",
   "mimetype": "text/x-python",
   "name": "python",
   "nbconvert_exporter": "python",
   "pygments_lexer": "ipython3",
   "version": "3.7.3"
  }
 },
 "nbformat": 4,
 "nbformat_minor": 1
}
